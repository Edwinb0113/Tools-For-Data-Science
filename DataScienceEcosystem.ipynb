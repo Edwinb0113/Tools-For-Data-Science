{
  "metadata": {
    "language_info": {
      "codemirror_mode": {
        "name": "python",
        "version": 3
      },
      "file_extension": ".py",
      "mimetype": "text/x-python",
      "name": "python",
      "nbconvert_exporter": "python",
      "pygments_lexer": "ipython3",
      "version": "3.8"
    },
    "kernelspec": {
      "name": "python",
      "display_name": "Python (Pyodide)",
      "language": "python"
    }
  },
  "nbformat_minor": 4,
  "nbformat": 4,
  "cells": [
    {
      "cell_type": "code",
      "source": ".# Data Science Tools and Ecosystem",
      "metadata": {},
      "execution_count": null,
      "outputs": []
    },
    {
      "cell_type": "code",
      "source": " In this notebook, Data Science Tools and Ecosystem are summarized.",
      "metadata": {},
      "execution_count": null,
      "outputs": []
    },
    {
      "cell_type": "code",
      "source": "**Objectives:\n    -Popular languages that Data Scientists use Python, R, SQL\n    -Commonly used libraries by Data Scientists inlcude NumPy, Pandas, SciKit-Learn\n    -Exposure to Github platform\n    -Adding necessary libraries to use languages through syntax",
      "metadata": {},
      "execution_count": null,
      "outputs": []
    },
    {
      "cell_type": "code",
      "source": " Some of the popular languages that Data Scientists use are:\n    1. Python\n    2. R\n    3. SQL",
      "metadata": {},
      "execution_count": null,
      "outputs": []
    },
    {
      "cell_type": "code",
      "source": " Some of the commonly used libraries used by Data Scientists include:\n    1. NumPy\n    2. Pandas\n    3. Matplotlib\n    4. Scikit-Learn\n",
      "metadata": {},
      "execution_count": null,
      "outputs": []
    },
    {
      "cell_type": "code",
      "source": "| Data Science Tools |\n|--------------------|\n|Jupter Notebook     |\n|Pandas              |\n|SciKit-Learn        |",
      "metadata": {},
      "execution_count": null,
      "outputs": []
    },
    {
      "cell_type": "code",
      "source": "### Below are a few examples of evaluating arithmetic expressions in Python",
      "metadata": {},
      "execution_count": null,
      "outputs": []
    },
    {
      "cell_type": "code",
      "source": "answer = (3*4)+5\n# This a simple arithmetic expression to mutiply then add integers\nanswer",
      "metadata": {
        "trusted": true
      },
      "execution_count": 13,
      "outputs": [
        {
          "execution_count": 13,
          "output_type": "execute_result",
          "data": {
            "text/plain": "17"
          },
          "metadata": {}
        }
      ]
    },
    {
      "cell_type": "code",
      "source": "# This will convert 200 minutes to hours by diving by 60\nminutes = 200\nhours = minutes / 60 \n\nhours",
      "metadata": {
        "trusted": true
      },
      "execution_count": 14,
      "outputs": [
        {
          "execution_count": 14,
          "output_type": "execute_result",
          "data": {
            "text/plain": "3.3333333333333335"
          },
          "metadata": {}
        }
      ]
    },
    {
      "cell_type": "code",
      "source": "## Author\nEdwin Barrera",
      "metadata": {},
      "execution_count": null,
      "outputs": []
    }
  ]
}